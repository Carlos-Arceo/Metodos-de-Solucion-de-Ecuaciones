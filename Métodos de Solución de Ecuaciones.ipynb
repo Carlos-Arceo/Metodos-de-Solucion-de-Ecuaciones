{
 "cells": [
  {
   "cell_type": "code",
   "execution_count": null,
   "id": "finished-celebration",
   "metadata": {},
   "outputs": [],
   "source": [
    "#(SISTEMAS COMPUTACIONALES 4A)\n",
    "\n",
    "#INTEGRANTES DEL EQUIPO:\n",
    "\n",
    "    #UUH ARCEO CARLOS MANUEL |19070065\n",
    "    #KANTUN TUZ JEENRI RIQUELME |19070031\n",
    "    #CAB PEÑA ADRIÁN ARTURO |19070059"
   ]
  },
  {
   "cell_type": "markdown",
   "id": "entertaining-alaska",
   "metadata": {},
   "source": [
    "# METODO BISECANTE"
   ]
  },
  {
   "cell_type": "code",
   "execution_count": 68,
   "id": "statistical-release",
   "metadata": {},
   "outputs": [],
   "source": [
    "import math\n",
    "def fxi(xi):\n",
    "    return math.pow(xi,3)+4*math.pow(xi,2)-10\n",
    "\n",
    "def fxr(xr):\n",
    "    return math.pow(xr,3)+4*math.pow(xr,2)-10\n",
    "\n",
    "def fxrporfxi(xi,xr):\n",
    "    return fxr(xr)*fxi(xi)\n",
    "\n",
    "def errorabsoluto(xactual,xanterior):\n",
    "    if xactual!=0:\n",
    "        return abs(((xactual-xanterior)/xactual))\n",
    "    else:\n",
    "        return 1.0"
   ]
  },
  {
   "cell_type": "code",
   "execution_count": 69,
   "id": "typical-winning",
   "metadata": {},
   "outputs": [],
   "source": [
    "def biseccion(xi,xs,cota,iteraciones):\n",
    "    error=1\n",
    "    if fxrporfxi(xi,xs)<0:\n",
    "        while error>cota:\n",
    "            xr=(xi+xs)/2\n",
    "            error=errorabsoluto(xr,xi)\n",
    "            if error>cota:\n",
    "                print (\"Raiz: \",xr,\"Error: \",error)\n",
    "            if fxrporfxi(xi,xr)<0:\n",
    "                xs=xr\n",
    "            if fxrporfxi(xi,xr)>0:\n",
    "                xi=xr\n",
    "            if fxrporfxi(xi,xr)==0:\n",
    "                error=cota\n",
    "    else:\n",
    "        print(\"No hay raiz en ese intevalo\")"
   ]
  },
  {
   "cell_type": "code",
   "execution_count": 70,
   "id": "further-policy",
   "metadata": {},
   "outputs": [
    {
     "name": "stdout",
     "output_type": "stream",
     "text": [
      "Raiz:  0.0 Error:  1.0\n",
      "Raiz:  1.0 Error:  1.0\n",
      "Raiz:  1.5 Error:  0.3333333333333333\n",
      "Raiz:  1.25 Error:  0.2\n",
      "Raiz:  1.375 Error:  0.09090909090909091\n",
      "Raiz:  1.3125 Error:  0.047619047619047616\n",
      "Raiz:  1.34375 Error:  0.023255813953488372\n",
      "Raiz:  1.359375 Error:  0.011494252873563218\n",
      "Raiz:  1.3671875 Error:  0.005714285714285714\n",
      "Raiz:  1.36328125 Error:  0.0028653295128939827\n",
      "Raiz:  1.365234375 Error:  0.001430615164520744\n"
     ]
    }
   ],
   "source": [
    "biseccion(-2,2,0.001,10)"
   ]
  },
  {
   "cell_type": "code",
   "execution_count": null,
   "id": "intensive-science",
   "metadata": {},
   "outputs": [],
   "source": []
  },
  {
   "cell_type": "markdown",
   "id": "heard-recovery",
   "metadata": {},
   "source": [
    "# METODO APROXIMACIONES SUCESIVAS O PUNTO FIJO"
   ]
  },
  {
   "cell_type": "code",
   "execution_count": 46,
   "id": "hollywood-diesel",
   "metadata": {},
   "outputs": [],
   "source": [
    "import math\n",
    "def fx(x):\n",
    "    return math.exp(-x)\n",
    "\n",
    "def errorabsoluto(xactual,xanterior):\n",
    "    return abs(((xactual-xanterior)/xactual))"
   ]
  },
  {
   "cell_type": "code",
   "execution_count": 47,
   "id": "romance-short",
   "metadata": {},
   "outputs": [],
   "source": [
    "import math\n",
    "\n",
    "def punto_fijo(x,cota,iteraciones):\n",
    "    error=1\n",
    "    while error>cota:\n",
    "        xactual=fx(x)\n",
    "        error=errorabsoluto(xactual,x)\n",
    "        x=xactual\n",
    "        if error>=cota:\n",
    "            print (\"Raiz: \",xactual,\" Error: \",error)"
   ]
  },
  {
   "cell_type": "code",
   "execution_count": 48,
   "id": "distant-handling",
   "metadata": {},
   "outputs": [
    {
     "name": "stdout",
     "output_type": "stream",
     "text": [
      "Raiz:  1.0  Error:  1.0\n",
      "Raiz:  0.36787944117144233  Error:  1.718281828459045\n",
      "Raiz:  0.6922006275553464  Error:  0.46853639461338437\n",
      "Raiz:  0.5004735005636368  Error:  0.3830914659333314\n",
      "Raiz:  0.6062435350855974  Error:  0.17446789681151248\n",
      "Raiz:  0.545395785975027  Error:  0.11156622525381316\n",
      "Raiz:  0.5796123355033789  Error:  0.059033508144086734\n",
      "Raiz:  0.5601154613610891  Error:  0.03480866979624528\n",
      "Raiz:  0.571143115080177  Error:  0.019308039312598228\n",
      "Raiz:  0.5648793473910495  Error:  0.011088682420515694\n"
     ]
    }
   ],
   "source": [
    "punto_fijo(0,0.01,10)"
   ]
  },
  {
   "cell_type": "code",
   "execution_count": null,
   "id": "returning-thesis",
   "metadata": {},
   "outputs": [],
   "source": []
  },
  {
   "cell_type": "markdown",
   "id": "confidential-roommate",
   "metadata": {},
   "source": [
    "# METODO NEWTON RAPHSON"
   ]
  },
  {
   "cell_type": "code",
   "execution_count": 38,
   "id": "opposite-veteran",
   "metadata": {},
   "outputs": [],
   "source": [
    "import math\n",
    "def fx(x):\n",
    "    return math.exp(-x)-x\n",
    "\n",
    "def derivadafx(x):\n",
    "    return -math.exp(-x)-1\n",
    "\n",
    "def errorabsoluto(xactual,xanterior):\n",
    "    return ((xactual-xanterior)/xactual)"
   ]
  },
  {
   "cell_type": "code",
   "execution_count": 39,
   "id": "excellent-invitation",
   "metadata": {},
   "outputs": [],
   "source": [
    "def newton(x,cota,iteraciones):\n",
    "    error=1\n",
    "    while error>cota:\n",
    "        xactual=x-(fx(x)/derivadafx(x))\n",
    "        error=errorabsoluto(xactual,x)\n",
    "        x=xactual\n",
    "        print (\"Raiz: \",xactual,\" Error: \",error)"
   ]
  },
  {
   "cell_type": "code",
   "execution_count": 40,
   "id": "artificial-conducting",
   "metadata": {},
   "outputs": [
    {
     "name": "stdout",
     "output_type": "stream",
     "text": [
      "Raiz:  0.5  Error:  1.0\n",
      "Raiz:  0.5663110031972182  Error:  0.11709290976662397\n",
      "Raiz:  0.5671431650348622  Error:  0.0014672870783743904\n"
     ]
    }
   ],
   "source": [
    "newton(0,0.01,10)"
   ]
  },
  {
   "cell_type": "code",
   "execution_count": null,
   "id": "affiliated-anger",
   "metadata": {},
   "outputs": [],
   "source": []
  },
  {
   "cell_type": "markdown",
   "id": "pediatric-control",
   "metadata": {},
   "source": [
    "# METODO SECANTE"
   ]
  },
  {
   "cell_type": "code",
   "execution_count": 41,
   "id": "novel-release",
   "metadata": {},
   "outputs": [],
   "source": [
    "import math\n",
    "\n",
    "def fxsecan(x):\n",
    "    return math.exp(-math.pow(x,2))-x\n",
    "\n",
    "def errorabsoluto(xactual,xanterior):\n",
    "    return abs(((xactual-xanterior)/xactual))"
   ]
  },
  {
   "cell_type": "code",
   "execution_count": 44,
   "id": "interpreted-editing",
   "metadata": {},
   "outputs": [],
   "source": [
    "def secante(xo,xi,cota,iteraciones):\n",
    "    error=1\n",
    "    while error>cota:\n",
    "        xactual=xi-((fxsecan(xi)*(xo-xi))/(fxsecan(xo)-fxsecan(xi)))\n",
    "        error=errorabsoluto(xactual,xi)\n",
    "        xo=xi\n",
    "        xi=xactual\n",
    "        if error>=cota:\n",
    "            print (\"Raiz: \",xactual,\" Error: \",error)"
   ]
  },
  {
   "cell_type": "code",
   "execution_count": 45,
   "id": "isolated-minister",
   "metadata": {},
   "outputs": [
    {
     "name": "stdout",
     "output_type": "stream",
     "text": [
      "Raiz:  0.6126998367802821  Error:  0.6321205588285577\n",
      "Raiz:  0.6534421332877829  Error:  0.06235027469457267\n"
     ]
    }
   ],
   "source": [
    "secante(0,1,0.01,10)"
   ]
  },
  {
   "cell_type": "code",
   "execution_count": null,
   "id": "manufactured-shade",
   "metadata": {},
   "outputs": [],
   "source": []
  }
 ],
 "metadata": {
  "kernelspec": {
   "display_name": "Python 3",
   "language": "python",
   "name": "python3"
  },
  "language_info": {
   "codemirror_mode": {
    "name": "ipython",
    "version": 3
   },
   "file_extension": ".py",
   "mimetype": "text/x-python",
   "name": "python",
   "nbconvert_exporter": "python",
   "pygments_lexer": "ipython3",
   "version": "3.9.2"
  }
 },
 "nbformat": 4,
 "nbformat_minor": 5
}
